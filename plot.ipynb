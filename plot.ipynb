{
 "cells": [
  {
   "cell_type": "code",
   "execution_count": 1,
   "metadata": {},
   "outputs": [],
   "source": [
    "import matlab.engine\n",
    "import matplotlib.pyplot as plt\n",
    "import numpy as np\n",
    "\n",
    "eng = matlab.engine.start_matlab()"
   ]
  },
  {
   "cell_type": "code",
   "execution_count": 56,
   "metadata": {},
   "outputs": [],
   "source": [
    "l2e1b10 = np.load('figure_data/l5e1b10.npz')\n",
    "l2e1b1024 = np.load('figure_data/l5e1b1024.npz')"
   ]
  },
  {
   "cell_type": "code",
   "execution_count": 57,
   "metadata": {},
   "outputs": [],
   "source": [
    "coding_mse = np.mean(l2e1b10['coding_val_mse'], axis=0)\n",
    "base_mse = np.mean(l2e1b10['base_val_mse'],axis=0)\n",
    "\n",
    "# Plot the figure in matlab\n",
    "average_data1_matlab = matlab.double(coding_mse.tolist())\n",
    "average_data2_matlab = matlab.double(base_mse.tolist())\n",
    "x_axis = matlab.double(list(range(1, len(coding_mse) + 1)))\n",
    "\n",
    "coding_mse = np.mean(l2e1b1024['coding_val_mse'], axis=0)\n",
    "base_mse = np.mean(l2e1b1024['base_val_mse'],axis=0)\n",
    "\n",
    "# Plot the figure in matlab\n",
    "average_data3_matlab = matlab.double(coding_mse.tolist())\n",
    "average_data4_matlab = matlab.double(base_mse.tolist())\n",
    "\n",
    "# Plot the data in MATLAB\n",
    "eng.figure(1.0,nargout=0)\n",
    "eng.plot(x_axis, average_data1_matlab, 'r-', nargout=0)\n",
    "\n",
    "eng.hold('on', nargout=0)\n",
    "eng.plot(x_axis, average_data3_matlab, 'b-', nargout=0)\n",
    "eng.plot(x_axis, average_data2_matlab, 'g-', nargout=0)\n",
    "eng.plot(x_axis, average_data4_matlab, 'm-', nargout=0)\n",
    "\n",
    "\n",
    "\n",
    "\n",
    "eng.hold('off', nargout=0)\n",
    "\n",
    "font_size = 14\n",
    "eng.legend(['FedAvg-FERP, B=10', 'FedAvg-FERP, B=1024', 'FedAvg, B=10', 'FedAvg, B=1024'], 'FontSize', 10, nargout=0)\n",
    "eng.xlabel('Communication Rounds', 'FontSize', font_size)\n",
    "eng.ylabel('MSE', 'FontSize', font_size)\n",
    "# eng.title('loss=5%, E=5, B=1024')\n",
    "eng.grid('on', nargout=0)\n",
    "\n",
    "# Use drawnow to ensure the figure appears\n",
    "eng.drawnow(nargout=0)"
   ]
  },
  {
   "cell_type": "markdown",
   "metadata": {},
   "source": [
    "## Average val mse after 150 round"
   ]
  },
  {
   "cell_type": "code",
   "execution_count": 49,
   "metadata": {},
   "outputs": [
    {
     "name": "stdout",
     "output_type": "stream",
     "text": [
      "coding_mse: 323.1957190614588\n",
      "coding_val_mse: 447.0334008115881\n",
      "base_mse: 959.6834428764791\n",
      "base_val_mse: 944.0132116205552\n"
     ]
    }
   ],
   "source": [
    "tmp_data = np.load('figure_data/l2e1b10.npz')\n",
    "average_coding_mse = np.nanmean(tmp_data['coding_mse'][:,150:1000])\n",
    "average_coding_val_mse = np.nanmean(tmp_data['coding_val_mse'][:,150:1000])\n",
    "average_base_mse = np.nanmean(tmp_data['base_mse'][:,150:1000])\n",
    "average_base_val_mse = np.nanmean(tmp_data['base_val_mse'][:,150:1000])\n",
    "\n",
    "print(f'coding_mse: {average_coding_mse}')\n",
    "print(f'coding_val_mse: {average_coding_val_mse}')\n",
    "print(f'base_mse: {average_base_mse}')\n",
    "print(f'base_val_mse: {average_base_val_mse}')"
   ]
  }
 ],
 "metadata": {
  "kernelspec": {
   "display_name": "ray",
   "language": "python",
   "name": "python3"
  },
  "language_info": {
   "codemirror_mode": {
    "name": "ipython",
    "version": 3
   },
   "file_extension": ".py",
   "mimetype": "text/x-python",
   "name": "python",
   "nbconvert_exporter": "python",
   "pygments_lexer": "ipython3",
   "version": "3.12.5"
  }
 },
 "nbformat": 4,
 "nbformat_minor": 2
}
